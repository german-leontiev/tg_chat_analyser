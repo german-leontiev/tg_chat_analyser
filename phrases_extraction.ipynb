{
 "cells": [
  {
   "cell_type": "code",
   "execution_count": 1,
   "id": "08b4a3c1-40f0-4684-970c-d65dc171ba94",
   "metadata": {},
   "outputs": [],
   "source": [
    "from glob import glob\n",
    "from bs4 import BeautifulSoup\n",
    "from tqdm import tqdm\n",
    "from utils import collect_profile, create_profile_image\n",
    "import os"
   ]
  },
  {
   "cell_type": "code",
   "execution_count": 2,
   "id": "92fc9d46-53b7-47f6-bfb0-deed4880e247",
   "metadata": {},
   "outputs": [],
   "source": [
    "exported_chat = \"data/ChatExport_2023-08-18/\""
   ]
  },
  {
   "cell_type": "code",
   "execution_count": 3,
   "id": "fb71617f-6858-43bf-b1c0-c440b80da018",
   "metadata": {},
   "outputs": [],
   "source": [
    "list_of_htmls = glob(f\"{exported_chat}messag*\")[:1]"
   ]
  },
  {
   "cell_type": "code",
   "execution_count": 4,
   "id": "7053e6b6-bc87-4c07-bef7-f842a20f5460",
   "metadata": {},
   "outputs": [
    {
     "name": "stderr",
     "output_type": "stream",
     "text": [
      "100%|██████████| 1/1 [00:00<00:00,  2.06it/s]\n"
     ]
    }
   ],
   "source": [
    "users_and_messages = {}\n",
    "for html in tqdm(list_of_htmls):\n",
    "    with open(html, \"r\") as f:\n",
    "        html_content = f.read()\n",
    "    soup = BeautifulSoup(html_content)\n",
    "    all_messages = soup.findAll(\"div\", {\"class\" : \"body\"})\n",
    "    users_messages = [tag for tag in all_messages if tag.findAll(\"div\", {\"class\" : \"from_name\"})]\n",
    "    for message in users_messages:\n",
    "        name_tag = message.find(\"div\", {\"class\" : \"from_name\"})\n",
    "        username = name_tag.contents[0].split(\"\\n\")[1]\n",
    "        if username not in users_and_messages.keys():\n",
    "            users_and_messages[username] = []\n",
    "        text_tag = message.find(\"div\", {\"class\" : \"text\"})\n",
    "        if text_tag:\n",
    "            user_message = text_tag.contents[0].split(\"\\n\")[1]\n",
    "            users_and_messages[username].append(user_message)"
   ]
  },
  {
   "cell_type": "code",
   "execution_count": 5,
   "id": "8f458006-f1a7-494a-891f-16df493a2c70",
   "metadata": {},
   "outputs": [],
   "source": [
    "os.makedirs(exported_chat +\"neural_analys_result/\", exist_ok=True)"
   ]
  },
  {
   "cell_type": "code",
   "execution_count": 6,
   "id": "0b6b8ae9-06f7-4ffa-87f5-877e974b3b0f",
   "metadata": {},
   "outputs": [
    {
     "name": "stderr",
     "output_type": "stream",
     "text": [
      "100%|██████████| 86/86 [00:37<00:00,  2.29it/s]\n"
     ]
    }
   ],
   "source": [
    "for username, user_messages in tqdm(users_and_messages.items()):\n",
    "    if len(user_messages):\n",
    "        profile = collect_profile(user_messages)\n",
    "        create_profile_image(profile, exported_chat +\"neural_analys_result/\"+ username.replace('/','') + \".png\")"
   ]
  },
  {
   "cell_type": "code",
   "execution_count": null,
   "id": "fa39ae16-1671-4855-b70c-c223b6135c18",
   "metadata": {},
   "outputs": [],
   "source": []
  }
 ],
 "metadata": {
  "kernelspec": {
   "display_name": "Python 3 (ipykernel)",
   "language": "python",
   "name": "python3"
  },
  "language_info": {
   "codemirror_mode": {
    "name": "ipython",
    "version": 3
   },
   "file_extension": ".py",
   "mimetype": "text/x-python",
   "name": "python",
   "nbconvert_exporter": "python",
   "pygments_lexer": "ipython3",
   "version": "3.10.12"
  }
 },
 "nbformat": 4,
 "nbformat_minor": 5
}
